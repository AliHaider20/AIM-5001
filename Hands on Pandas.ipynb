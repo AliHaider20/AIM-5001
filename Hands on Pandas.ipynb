{
 "cells": [
  {
   "cell_type": "code",
   "execution_count": 23,
   "id": "b47c0795",
   "metadata": {},
   "outputs": [],
   "source": [
    "import csv"
   ]
  },
  {
   "cell_type": "code",
   "execution_count": 24,
   "id": "cf398ba7",
   "metadata": {},
   "outputs": [],
   "source": [
    "# Creating unique lists for different features of a car.\n",
    "\n",
    "Price =[]\n",
    "Maintainance_cost = []\n",
    "Doors = []\n",
    "Passengers = []\n",
    "Luggage_cap = []\n",
    "Safe_rating = []\n",
    "Class_of_vehicle = []\n",
    "\n",
    "with open('cars-sample35.txt') as txtfile:\n",
    "    readtxt = csv.reader(txtfile)\n",
    "    for car in readtxt:\n",
    "        price, M_cost, doors, passengers, Lug_cap, COV, Safety = car\n",
    "        Price.append(price)\n",
    "        Maintainance_cost.append(M_cost)\n",
    "        Doors.append(doors)\n",
    "        Passengers.append(passengers)\n",
    "        Luggage_cap.append(Lug_cap)\n",
    "        Class_of_vehicle.append(COV)\n",
    "        Safe_rating.append(Safety) "
   ]
  },
  {
   "cell_type": "markdown",
   "id": "fd3ca6f1",
   "metadata": {},
   "source": [
    "# Task 1: Finding Indexes of cars with Med Price"
   ]
  },
  {
   "cell_type": "code",
   "execution_count": 25,
   "id": "52287bb0",
   "metadata": {
    "scrolled": true
   },
   "outputs": [
    {
     "name": "stdout",
     "output_type": "stream",
     "text": [
      "Cars with indexes where Price is Medium are: 6 16 20 23 26 29\n"
     ]
    }
   ],
   "source": [
    "med_idx = [idx for idx in range(len(Price)) if Price[idx] == \"med\"]\n",
    "print(\"Cars with indexes where Price is Medium are:\", *med_idx)"
   ]
  },
  {
   "cell_type": "markdown",
   "id": "3cae7511",
   "metadata": {},
   "source": [
    "# Task 2: Finding number of Passangers a car can accomodate with Med Price."
   ]
  },
  {
   "cell_type": "code",
   "execution_count": 26,
   "id": "d13af750",
   "metadata": {
    "scrolled": true
   },
   "outputs": [
    {
     "name": "stdout",
     "output_type": "stream",
     "text": [
      "Cars with med Price has the following Passangers capacity:  more 2 2 2 4 2\n"
     ]
    }
   ],
   "source": [
    "Pass_med_price = [Passengers[idx] for idx in range(len(Price)) if Price[idx] == 'med' ]\n",
    "print(\"Cars with med Price has the following Passangers capacity: \", *Pass_med_price)"
   ]
  },
  {
   "cell_type": "markdown",
   "id": "3310e103",
   "metadata": {},
   "source": [
    "# Task 3: Finding Indexes of cars with low maintenance and Price high."
   ]
  },
  {
   "cell_type": "code",
   "execution_count": 27,
   "id": "dafec1dd",
   "metadata": {},
   "outputs": [
    {
     "name": "stdout",
     "output_type": "stream",
     "text": [
      "Car Indexes for items with Low Maintainance and with high price:  0 1 2 27 31\n"
     ]
    }
   ],
   "source": [
    "Idx_low_maintenance_Price_high = [idx for idx in range(len(Maintainance_cost)) if Maintainance_cost[idx] != \"low\" and Price[idx] == \"high\"]\n",
    "print(\"Car Indexes for items with Low Maintainance and with high price: \", *Idx_low_maintenance_Price_high)"
   ]
  },
  {
   "cell_type": "markdown",
   "id": "558ee954",
   "metadata": {},
   "source": [
    "# TASK 4: Creating a list of values from extracting values from a list of list."
   ]
  },
  {
   "cell_type": "code",
   "execution_count": 28,
   "id": "8bd1725d",
   "metadata": {},
   "outputs": [
    {
     "name": "stdout",
     "output_type": "stream",
     "text": [
      "Extracted values from the list are:  1 2 3 A B C 4 5 D E\n"
     ]
    }
   ],
   "source": [
    "nlist = [ [1, 2, 3], ['A', 'B', 'C'], [4, 5], ['D', 'E'] ]\n",
    "extract_vals = [v for val in nlist for v in val ]\n",
    "print(\"Extracted values from the list are: \", *extract_vals)"
   ]
  },
  {
   "cell_type": "markdown",
   "id": "d2087738",
   "metadata": {},
   "source": [
    "# Task 5"
   ]
  },
  {
   "cell_type": "markdown",
   "id": "b9af0e25",
   "metadata": {},
   "source": [
    "### Method 1: Creating a function to add list values to a dictionary using Dictionary comprehension method.\n"
   ]
  },
  {
   "cell_type": "code",
   "execution_count": 29,
   "id": "8683ffad",
   "metadata": {},
   "outputs": [
    {
     "name": "stdout",
     "output_type": "stream",
     "text": [
      "{'A0': 'med', 'A1': 'small', 'A2': 'big', 'A3': 'big', 'A4': 'med'}\n"
     ]
    }
   ],
   "source": [
    "def makedict(mylist, n):\n",
    "    \"\"\"\n",
    "    Makedict function: Creates a dictionary with key as A plus a unique number and the values will be the values from the mylist's list.\n",
    "\n",
    "    - Input parameters: mylist (required argument): List of values which will be the values to a unique key in the dictionary.\n",
    "                        n (required argument): Number of values in the list.\n",
    "    \"\"\"\n",
    "    # Dictionary comprehension looping the range of values till n and accessing the values from the list.\n",
    "    mydict =  {\"A\"+str(i):mylist[i] for i in range(n)}\n",
    "    return mydict\n",
    "\n",
    "# print(makedict(Luggage_cap, len(Luggage_cap)))\n",
    "print(makedict(Luggage_cap[:5], 5))"
   ]
  },
  {
   "cell_type": "markdown",
   "id": "f9732b32",
   "metadata": {},
   "source": [
    "### Method 2: Creating a function to add list values to a dictionary  using simple For loop "
   ]
  },
  {
   "cell_type": "code",
   "execution_count": 30,
   "id": "24588fa4",
   "metadata": {},
   "outputs": [
    {
     "name": "stdout",
     "output_type": "stream",
     "text": [
      "{'A0': 'med', 'A1': 'small', 'A2': 'big', 'A3': 'big', 'A4': 'med', 'A5': 'small', 'A6': 'med', 'A7': 'big', 'A8': 'small', 'A9': 'med', 'A10': 'med', 'A11': 'small', 'A12': 'big', 'A13': 'big', 'A14': 'big', 'A15': 'med', 'A16': 'small', 'A17': 'med', 'A18': 'med', 'A19': 'big', 'A20': 'big', 'A21': 'small', 'A22': 'med', 'A23': 'big', 'A24': 'big', 'A25': 'big', 'A26': 'small', 'A27': 'med', 'A28': 'big', 'A29': 'med', 'A30': 'med', 'A31': 'med', 'A32': 'med', 'A33': 'big', 'A34': 'big'}\n"
     ]
    }
   ],
   "source": [
    "def makedict(mylist, n):\n",
    "    \"\"\"\n",
    "    Makedict function: Creates a dictionary with key as A plus a unique number and the values will be the values from the mylist's list.\n",
    "\n",
    "    - Input parameters: mylist (required argument): List of values which will be the values to a unique key in the dictionary.\n",
    "                        n (required argument): Number of values in the list.\n",
    "    \"\"\"\n",
    "    \n",
    "    mydict = {}\n",
    "    for i in range(n):\n",
    "        mydict[\"A\"+str(i)] = mylist[i]\n",
    "    return mydict\n",
    "\n",
    "print(makedict(Luggage_cap, len(Luggage_cap)))"
   ]
  },
  {
   "cell_type": "code",
   "execution_count": 31,
   "id": "1642fce2",
   "metadata": {},
   "outputs": [],
   "source": [
    "?makedict"
   ]
  },
  {
   "cell_type": "markdown",
   "id": "e802e56c",
   "metadata": {},
   "source": [
    "## Task 6: Creating Price and Luggage dictionary and accessing A4 key's value."
   ]
  },
  {
   "cell_type": "code",
   "execution_count": 32,
   "id": "61982c17",
   "metadata": {
    "scrolled": true
   },
   "outputs": [
    {
     "name": "stdout",
     "output_type": "stream",
     "text": [
      "Price for A4 key in Price dict is: vhigh\n",
      "Luggage for A4 key in Luggage dict is: med\n"
     ]
    }
   ],
   "source": [
    "Price_dict = makedict(Price, len(Price))\n",
    "Luggage_dict = makedict(Luggage_cap, len(Luggage_cap))\n",
    "\n",
    "print(\"Price for A4 key in Price dict is:\", Price_dict[\"A4\"])\n",
    "print(\"Luggage for A4 key in Luggage dict is:\", Luggage_dict[\"A4\"])"
   ]
  },
  {
   "cell_type": "markdown",
   "id": "3b8ff0bd",
   "metadata": {},
   "source": [
    "# Class work\n",
    "\n",
    "### \"Hands On\" Exercises\n",
    "\n",
    "#### Part 1\n",
    "\n",
    "Write a function that determine whether or not a driver has been speeding. The function should have a single argument: the speed they were driving (we'll assume it's in KM per hour, not miles per hour).\n",
    "\n",
    "- If their speed is less than 70km per hr, return a value of 'OK'\n",
    "\n",
    "\n",
    "- If their speed is greater than 70km per hr, for every 5km above the speed limit(70), the driver earns 1 demerit point. Return the total number of demerit points in the form of a string, e.g., if the driver's speed was 85km per hr, return \"Points: 3\"\n",
    "\n",
    "\n",
    "- If the total number of demerit points exceeds 6, the function should return \"License Suspended\""
   ]
  },
  {
   "cell_type": "code",
   "execution_count": 128,
   "id": "e58bfbd3",
   "metadata": {},
   "outputs": [
    {
     "data": {
      "text/plain": [
       "'Deducted Points 4.0'"
      ]
     },
     "execution_count": 128,
     "metadata": {},
     "output_type": "execute_result"
    }
   ],
   "source": [
    "def SpeedCheck(speed):\n",
    "    \"\"\" SpeedCheck - Reads the speed of the vehicle and checks if it crosses the allowed limit. If it crosses the\n",
    "    limit by a huge difference it suspends the license.\n",
    "    \"\"\" \n",
    "    speed_check = (speed-70)/5\n",
    "    if speed_check == 0:\n",
    "        return \"OK\"\n",
    "    elif speed_check < 6:\n",
    "        return \"Deducted Points \" + str(speed_check)\n",
    "    else:\n",
    "        return \"License Suspended\"\n",
    "    \n",
    "    \n",
    "SpeedCheck(90)"
   ]
  },
  {
   "cell_type": "markdown",
   "id": "a46c391b",
   "metadata": {},
   "source": [
    "#### Part 2\n",
    "\n",
    "Write a function that tests whether a number is a prime number. It should accept one argument: the number you are testing. It should return a Boolean value indicating whether or not the number is a prime number."
   ]
  },
  {
   "cell_type": "code",
   "execution_count": 155,
   "id": "d6d7b633",
   "metadata": {
    "scrolled": true
   },
   "outputs": [
    {
     "data": {
      "text/plain": [
       "[2, 3, 5, 7, 11, 13, 17, 19, 23, 29]"
      ]
     },
     "execution_count": 155,
     "metadata": {},
     "output_type": "execute_result"
    }
   ],
   "source": [
    "def IsPrime(num):\n",
    "    \"\"\" IsPrime: Checks if a number is prime number or not.\n",
    "    - Uses Square root method to save the computation.\n",
    "    \"\"\"\n",
    "    if num > 2:\n",
    "\n",
    "        for n in range(2, int(num**0.5)+2):\n",
    "            if num%n == 0:\n",
    "                return False\n",
    "        else:\n",
    "            return True\n",
    "    else:\n",
    "        return True\n",
    "\n",
    "first_10_primes = [n for n in range(2, 30) if IsPrime(n) ]\n",
    "first_10_primes"
   ]
  }
 ],
 "metadata": {
  "kernelspec": {
   "display_name": "Python 3 (ipykernel)",
   "language": "python",
   "name": "python3"
  },
  "language_info": {
   "codemirror_mode": {
    "name": "ipython",
    "version": 3
   },
   "file_extension": ".py",
   "mimetype": "text/x-python",
   "name": "python",
   "nbconvert_exporter": "python",
   "pygments_lexer": "ipython3",
   "version": "3.10.4"
  }
 },
 "nbformat": 4,
 "nbformat_minor": 5
}
