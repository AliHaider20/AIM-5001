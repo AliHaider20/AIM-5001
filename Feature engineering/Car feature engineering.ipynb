{
 "cells": [
  {
   "cell_type": "code",
   "execution_count": 1,
   "id": "09443be4",
   "metadata": {},
   "outputs": [],
   "source": [
    "import requests\n",
    "import pandas as pd\n",
    "import seaborn as sns\n",
    "import numpy as np\n",
    "import matplotlib.pyplot as plt"
   ]
  },
  {
   "cell_type": "code",
   "execution_count": 2,
   "id": "4afa62a1",
   "metadata": {},
   "outputs": [
    {
     "data": {
      "text/html": [
       "<div>\n",
       "<style scoped>\n",
       "    .dataframe tbody tr th:only-of-type {\n",
       "        vertical-align: middle;\n",
       "    }\n",
       "\n",
       "    .dataframe tbody tr th {\n",
       "        vertical-align: top;\n",
       "    }\n",
       "\n",
       "    .dataframe thead th {\n",
       "        text-align: right;\n",
       "    }\n",
       "</style>\n",
       "<table border=\"1\" class=\"dataframe\">\n",
       "  <thead>\n",
       "    <tr style=\"text-align: right;\">\n",
       "      <th></th>\n",
       "      <th>Symboling</th>\n",
       "      <th>Normalized_losses</th>\n",
       "      <th>Make</th>\n",
       "      <th>Fuel_type</th>\n",
       "      <th>Aspiration</th>\n",
       "      <th>Ndoors</th>\n",
       "      <th>Body_style</th>\n",
       "      <th>Drive_wheels</th>\n",
       "      <th>Engine_Location</th>\n",
       "      <th>Wheel_base</th>\n",
       "      <th>...</th>\n",
       "      <th>Engine_size</th>\n",
       "      <th>Fuel_system</th>\n",
       "      <th>Bore</th>\n",
       "      <th>Stroke</th>\n",
       "      <th>Compression_ratio</th>\n",
       "      <th>Horsepower</th>\n",
       "      <th>Peak_rpm</th>\n",
       "      <th>City_mpg</th>\n",
       "      <th>Highway_mpg</th>\n",
       "      <th>Price</th>\n",
       "    </tr>\n",
       "  </thead>\n",
       "  <tbody>\n",
       "    <tr>\n",
       "      <th>0</th>\n",
       "      <td>3</td>\n",
       "      <td>?</td>\n",
       "      <td>alfa-romero</td>\n",
       "      <td>gas</td>\n",
       "      <td>std</td>\n",
       "      <td>two</td>\n",
       "      <td>convertible</td>\n",
       "      <td>rwd</td>\n",
       "      <td>front</td>\n",
       "      <td>88.6</td>\n",
       "      <td>...</td>\n",
       "      <td>130</td>\n",
       "      <td>mpfi</td>\n",
       "      <td>3.47</td>\n",
       "      <td>2.68</td>\n",
       "      <td>9.0</td>\n",
       "      <td>111</td>\n",
       "      <td>5000</td>\n",
       "      <td>21</td>\n",
       "      <td>27</td>\n",
       "      <td>13495</td>\n",
       "    </tr>\n",
       "    <tr>\n",
       "      <th>1</th>\n",
       "      <td>3</td>\n",
       "      <td>?</td>\n",
       "      <td>alfa-romero</td>\n",
       "      <td>gas</td>\n",
       "      <td>std</td>\n",
       "      <td>two</td>\n",
       "      <td>convertible</td>\n",
       "      <td>rwd</td>\n",
       "      <td>front</td>\n",
       "      <td>88.6</td>\n",
       "      <td>...</td>\n",
       "      <td>130</td>\n",
       "      <td>mpfi</td>\n",
       "      <td>3.47</td>\n",
       "      <td>2.68</td>\n",
       "      <td>9.0</td>\n",
       "      <td>111</td>\n",
       "      <td>5000</td>\n",
       "      <td>21</td>\n",
       "      <td>27</td>\n",
       "      <td>16500</td>\n",
       "    </tr>\n",
       "    <tr>\n",
       "      <th>2</th>\n",
       "      <td>1</td>\n",
       "      <td>?</td>\n",
       "      <td>alfa-romero</td>\n",
       "      <td>gas</td>\n",
       "      <td>std</td>\n",
       "      <td>two</td>\n",
       "      <td>hatchback</td>\n",
       "      <td>rwd</td>\n",
       "      <td>front</td>\n",
       "      <td>94.5</td>\n",
       "      <td>...</td>\n",
       "      <td>152</td>\n",
       "      <td>mpfi</td>\n",
       "      <td>2.68</td>\n",
       "      <td>3.47</td>\n",
       "      <td>9.0</td>\n",
       "      <td>154</td>\n",
       "      <td>5000</td>\n",
       "      <td>19</td>\n",
       "      <td>26</td>\n",
       "      <td>16500</td>\n",
       "    </tr>\n",
       "    <tr>\n",
       "      <th>3</th>\n",
       "      <td>2</td>\n",
       "      <td>164</td>\n",
       "      <td>audi</td>\n",
       "      <td>gas</td>\n",
       "      <td>std</td>\n",
       "      <td>four</td>\n",
       "      <td>sedan</td>\n",
       "      <td>fwd</td>\n",
       "      <td>front</td>\n",
       "      <td>99.8</td>\n",
       "      <td>...</td>\n",
       "      <td>109</td>\n",
       "      <td>mpfi</td>\n",
       "      <td>3.19</td>\n",
       "      <td>3.4</td>\n",
       "      <td>10.0</td>\n",
       "      <td>102</td>\n",
       "      <td>5500</td>\n",
       "      <td>24</td>\n",
       "      <td>30</td>\n",
       "      <td>13950</td>\n",
       "    </tr>\n",
       "    <tr>\n",
       "      <th>4</th>\n",
       "      <td>2</td>\n",
       "      <td>164</td>\n",
       "      <td>audi</td>\n",
       "      <td>gas</td>\n",
       "      <td>std</td>\n",
       "      <td>four</td>\n",
       "      <td>sedan</td>\n",
       "      <td>4wd</td>\n",
       "      <td>front</td>\n",
       "      <td>99.4</td>\n",
       "      <td>...</td>\n",
       "      <td>136</td>\n",
       "      <td>mpfi</td>\n",
       "      <td>3.19</td>\n",
       "      <td>3.4</td>\n",
       "      <td>8.0</td>\n",
       "      <td>115</td>\n",
       "      <td>5500</td>\n",
       "      <td>18</td>\n",
       "      <td>22</td>\n",
       "      <td>17450</td>\n",
       "    </tr>\n",
       "  </tbody>\n",
       "</table>\n",
       "<p>5 rows × 26 columns</p>\n",
       "</div>"
      ],
      "text/plain": [
       "   Symboling Normalized_losses         Make Fuel_type Aspiration Ndoors  \\\n",
       "0          3                 ?  alfa-romero       gas        std    two   \n",
       "1          3                 ?  alfa-romero       gas        std    two   \n",
       "2          1                 ?  alfa-romero       gas        std    two   \n",
       "3          2               164         audi       gas        std   four   \n",
       "4          2               164         audi       gas        std   four   \n",
       "\n",
       "    Body_style Drive_wheels Engine_Location  Wheel_base  ...  Engine_size  \\\n",
       "0  convertible          rwd           front        88.6  ...          130   \n",
       "1  convertible          rwd           front        88.6  ...          130   \n",
       "2    hatchback          rwd           front        94.5  ...          152   \n",
       "3        sedan          fwd           front        99.8  ...          109   \n",
       "4        sedan          4wd           front        99.4  ...          136   \n",
       "\n",
       "   Fuel_system  Bore  Stroke Compression_ratio Horsepower  Peak_rpm City_mpg  \\\n",
       "0         mpfi  3.47    2.68               9.0        111      5000       21   \n",
       "1         mpfi  3.47    2.68               9.0        111      5000       21   \n",
       "2         mpfi  2.68    3.47               9.0        154      5000       19   \n",
       "3         mpfi  3.19     3.4              10.0        102      5500       24   \n",
       "4         mpfi  3.19     3.4               8.0        115      5500       18   \n",
       "\n",
       "  Highway_mpg  Price  \n",
       "0          27  13495  \n",
       "1          27  16500  \n",
       "2          26  16500  \n",
       "3          30  13950  \n",
       "4          22  17450  \n",
       "\n",
       "[5 rows x 26 columns]"
      ]
     },
     "execution_count": 2,
     "metadata": {},
     "output_type": "execute_result"
    }
   ],
   "source": [
    "df = pd.read_csv(\"https://raw.githubusercontent.com/AliHaider20/AIM-5001/main/Feature%20engineering/M10_Data.csv\", header=None)\n",
    "df.columns= [\"Symboling\", \"Normalized_losses\", \"Make\", \"Fuel_type\", \"Aspiration\", \"Ndoors\", \"Body_style\",\n",
    "             \"Drive_wheels\", \"Engine_Location\", \"Wheel_base\", \"Length\", \"Width\", \"Height\", \"Curb_weight\",\n",
    "             \"Engine_type\", \"NCylinders\", \"Engine_size\", \"Fuel_system\", \"Bore\",\"Stroke\",\"Compression_ratio\",\n",
    "             \"Horsepower\", \"Peak_rpm\", \"City_mpg\", \"Highway_mpg\", \"Price\"]\n",
    "df.head()"
   ]
  },
  {
   "cell_type": "code",
   "execution_count": 3,
   "id": "8fe05ced",
   "metadata": {
    "scrolled": true
   },
   "outputs": [
    {
     "data": {
      "text/plain": [
       "Symboling             0\n",
       "Normalized_losses    41\n",
       "Make                  0\n",
       "Fuel_type             0\n",
       "Aspiration            0\n",
       "Ndoors                2\n",
       "Body_style            0\n",
       "Drive_wheels          0\n",
       "Engine_Location       0\n",
       "Wheel_base            0\n",
       "Length                0\n",
       "Width                 0\n",
       "Height                0\n",
       "Curb_weight           0\n",
       "Engine_type           0\n",
       "NCylinders            0\n",
       "Engine_size           0\n",
       "Fuel_system           0\n",
       "Bore                  4\n",
       "Stroke                4\n",
       "Compression_ratio     0\n",
       "Horsepower            2\n",
       "Peak_rpm              2\n",
       "City_mpg              0\n",
       "Highway_mpg           0\n",
       "Price                 4\n",
       "dtype: int64"
      ]
     },
     "execution_count": 3,
     "metadata": {},
     "output_type": "execute_result"
    }
   ],
   "source": [
    "df.replace(\"?\", np.NaN, inplace=True)\n",
    "df.isna().sum()"
   ]
  },
  {
   "cell_type": "code",
   "execution_count": 4,
   "id": "799fdd57",
   "metadata": {
    "scrolled": true
   },
   "outputs": [
    {
     "name": "stdout",
     "output_type": "stream",
     "text": [
      "<class 'pandas.core.frame.DataFrame'>\n",
      "RangeIndex: 205 entries, 0 to 204\n",
      "Data columns (total 26 columns):\n",
      " #   Column             Non-Null Count  Dtype  \n",
      "---  ------             --------------  -----  \n",
      " 0   Symboling          205 non-null    int64  \n",
      " 1   Normalized_losses  164 non-null    object \n",
      " 2   Make               205 non-null    object \n",
      " 3   Fuel_type          205 non-null    object \n",
      " 4   Aspiration         205 non-null    object \n",
      " 5   Ndoors             203 non-null    object \n",
      " 6   Body_style         205 non-null    object \n",
      " 7   Drive_wheels       205 non-null    object \n",
      " 8   Engine_Location    205 non-null    object \n",
      " 9   Wheel_base         205 non-null    float64\n",
      " 10  Length             205 non-null    float64\n",
      " 11  Width              205 non-null    float64\n",
      " 12  Height             205 non-null    float64\n",
      " 13  Curb_weight        205 non-null    int64  \n",
      " 14  Engine_type        205 non-null    object \n",
      " 15  NCylinders         205 non-null    object \n",
      " 16  Engine_size        205 non-null    int64  \n",
      " 17  Fuel_system        205 non-null    object \n",
      " 18  Bore               201 non-null    object \n",
      " 19  Stroke             201 non-null    object \n",
      " 20  Compression_ratio  205 non-null    float64\n",
      " 21  Horsepower         203 non-null    object \n",
      " 22  Peak_rpm           203 non-null    object \n",
      " 23  City_mpg           205 non-null    int64  \n",
      " 24  Highway_mpg        205 non-null    int64  \n",
      " 25  Price              201 non-null    object \n",
      "dtypes: float64(5), int64(5), object(16)\n",
      "memory usage: 41.8+ KB\n"
     ]
    }
   ],
   "source": [
    "df.info()"
   ]
  },
  {
   "cell_type": "code",
   "execution_count": 5,
   "id": "3a7448a6",
   "metadata": {},
   "outputs": [
    {
     "data": {
      "text/html": [
       "<div>\n",
       "<style scoped>\n",
       "    .dataframe tbody tr th:only-of-type {\n",
       "        vertical-align: middle;\n",
       "    }\n",
       "\n",
       "    .dataframe tbody tr th {\n",
       "        vertical-align: top;\n",
       "    }\n",
       "\n",
       "    .dataframe thead th {\n",
       "        text-align: right;\n",
       "    }\n",
       "</style>\n",
       "<table border=\"1\" class=\"dataframe\">\n",
       "  <thead>\n",
       "    <tr style=\"text-align: right;\">\n",
       "      <th></th>\n",
       "      <th>Symboling</th>\n",
       "      <th>Wheel_base</th>\n",
       "      <th>Length</th>\n",
       "      <th>Width</th>\n",
       "      <th>Height</th>\n",
       "      <th>Curb_weight</th>\n",
       "      <th>Engine_size</th>\n",
       "      <th>Compression_ratio</th>\n",
       "      <th>City_mpg</th>\n",
       "      <th>Highway_mpg</th>\n",
       "    </tr>\n",
       "  </thead>\n",
       "  <tbody>\n",
       "    <tr>\n",
       "      <th>count</th>\n",
       "      <td>205.000000</td>\n",
       "      <td>205.000000</td>\n",
       "      <td>205.000000</td>\n",
       "      <td>205.000000</td>\n",
       "      <td>205.000000</td>\n",
       "      <td>205.000000</td>\n",
       "      <td>205.000000</td>\n",
       "      <td>205.000000</td>\n",
       "      <td>205.000000</td>\n",
       "      <td>205.000000</td>\n",
       "    </tr>\n",
       "    <tr>\n",
       "      <th>mean</th>\n",
       "      <td>0.834146</td>\n",
       "      <td>98.756585</td>\n",
       "      <td>174.049268</td>\n",
       "      <td>65.907805</td>\n",
       "      <td>53.724878</td>\n",
       "      <td>2555.565854</td>\n",
       "      <td>126.907317</td>\n",
       "      <td>10.142537</td>\n",
       "      <td>25.219512</td>\n",
       "      <td>30.751220</td>\n",
       "    </tr>\n",
       "    <tr>\n",
       "      <th>std</th>\n",
       "      <td>1.245307</td>\n",
       "      <td>6.021776</td>\n",
       "      <td>12.337289</td>\n",
       "      <td>2.145204</td>\n",
       "      <td>2.443522</td>\n",
       "      <td>520.680204</td>\n",
       "      <td>41.642693</td>\n",
       "      <td>3.972040</td>\n",
       "      <td>6.542142</td>\n",
       "      <td>6.886443</td>\n",
       "    </tr>\n",
       "    <tr>\n",
       "      <th>min</th>\n",
       "      <td>-2.000000</td>\n",
       "      <td>86.600000</td>\n",
       "      <td>141.100000</td>\n",
       "      <td>60.300000</td>\n",
       "      <td>47.800000</td>\n",
       "      <td>1488.000000</td>\n",
       "      <td>61.000000</td>\n",
       "      <td>7.000000</td>\n",
       "      <td>13.000000</td>\n",
       "      <td>16.000000</td>\n",
       "    </tr>\n",
       "    <tr>\n",
       "      <th>25%</th>\n",
       "      <td>0.000000</td>\n",
       "      <td>94.500000</td>\n",
       "      <td>166.300000</td>\n",
       "      <td>64.100000</td>\n",
       "      <td>52.000000</td>\n",
       "      <td>2145.000000</td>\n",
       "      <td>97.000000</td>\n",
       "      <td>8.600000</td>\n",
       "      <td>19.000000</td>\n",
       "      <td>25.000000</td>\n",
       "    </tr>\n",
       "    <tr>\n",
       "      <th>50%</th>\n",
       "      <td>1.000000</td>\n",
       "      <td>97.000000</td>\n",
       "      <td>173.200000</td>\n",
       "      <td>65.500000</td>\n",
       "      <td>54.100000</td>\n",
       "      <td>2414.000000</td>\n",
       "      <td>120.000000</td>\n",
       "      <td>9.000000</td>\n",
       "      <td>24.000000</td>\n",
       "      <td>30.000000</td>\n",
       "    </tr>\n",
       "    <tr>\n",
       "      <th>75%</th>\n",
       "      <td>2.000000</td>\n",
       "      <td>102.400000</td>\n",
       "      <td>183.100000</td>\n",
       "      <td>66.900000</td>\n",
       "      <td>55.500000</td>\n",
       "      <td>2935.000000</td>\n",
       "      <td>141.000000</td>\n",
       "      <td>9.400000</td>\n",
       "      <td>30.000000</td>\n",
       "      <td>34.000000</td>\n",
       "    </tr>\n",
       "    <tr>\n",
       "      <th>max</th>\n",
       "      <td>3.000000</td>\n",
       "      <td>120.900000</td>\n",
       "      <td>208.100000</td>\n",
       "      <td>72.300000</td>\n",
       "      <td>59.800000</td>\n",
       "      <td>4066.000000</td>\n",
       "      <td>326.000000</td>\n",
       "      <td>23.000000</td>\n",
       "      <td>49.000000</td>\n",
       "      <td>54.000000</td>\n",
       "    </tr>\n",
       "  </tbody>\n",
       "</table>\n",
       "</div>"
      ],
      "text/plain": [
       "        Symboling  Wheel_base      Length       Width      Height  \\\n",
       "count  205.000000  205.000000  205.000000  205.000000  205.000000   \n",
       "mean     0.834146   98.756585  174.049268   65.907805   53.724878   \n",
       "std      1.245307    6.021776   12.337289    2.145204    2.443522   \n",
       "min     -2.000000   86.600000  141.100000   60.300000   47.800000   \n",
       "25%      0.000000   94.500000  166.300000   64.100000   52.000000   \n",
       "50%      1.000000   97.000000  173.200000   65.500000   54.100000   \n",
       "75%      2.000000  102.400000  183.100000   66.900000   55.500000   \n",
       "max      3.000000  120.900000  208.100000   72.300000   59.800000   \n",
       "\n",
       "       Curb_weight  Engine_size  Compression_ratio    City_mpg  Highway_mpg  \n",
       "count   205.000000   205.000000         205.000000  205.000000   205.000000  \n",
       "mean   2555.565854   126.907317          10.142537   25.219512    30.751220  \n",
       "std     520.680204    41.642693           3.972040    6.542142     6.886443  \n",
       "min    1488.000000    61.000000           7.000000   13.000000    16.000000  \n",
       "25%    2145.000000    97.000000           8.600000   19.000000    25.000000  \n",
       "50%    2414.000000   120.000000           9.000000   24.000000    30.000000  \n",
       "75%    2935.000000   141.000000           9.400000   30.000000    34.000000  \n",
       "max    4066.000000   326.000000          23.000000   49.000000    54.000000  "
      ]
     },
     "execution_count": 5,
     "metadata": {},
     "output_type": "execute_result"
    }
   ],
   "source": [
    "df.describe()"
   ]
  },
  {
   "cell_type": "markdown",
   "id": "ddd75f8f",
   "metadata": {},
   "source": [
    "# EDA"
   ]
  },
  {
   "cell_type": "code",
   "execution_count": 6,
   "id": "b84db60d",
   "metadata": {
    "scrolled": true
   },
   "outputs": [
    {
     "data": {
      "text/plain": [
       "<AxesSubplot:ylabel='Frequency'>"
      ]
     },
     "execution_count": 6,
     "metadata": {},
     "output_type": "execute_result"
    },
    {
     "data": {
      "image/png": "[encoded data removed]",
      "text/plain": [
       "<Figure size 432x288 with 1 Axes>"
      ]
     },
     "metadata": {
      "needs_background": "light"
     },
     "output_type": "display_data"
    }
   ],
   "source": [
    "df.Wheel_base = (df.Wheel_base-df.Wheel_base.min())/(df.Wheel_base.max()-df.Wheel_base.min())\n",
    "df.Wheel_base.plot(kind='hist')"
   ]
  },
  {
   "cell_type": "code",
   "execution_count": 7,
   "id": "5ef35e33",
   "metadata": {
    "scrolled": true
   },
   "outputs": [
    {
     "data": {
      "image/png": "[encoded data removed]",
      "text/plain": [
       "<Figure size 432x288 with 1 Axes>"
      ]
     },
     "metadata": {
      "needs_background": "light"
     },
     "output_type": "display_data"
    }
   ],
   "source": [
    "plt.bar(df.Symboling, df.Symboling.values);"
   ]
  },
  {
   "cell_type": "markdown",
   "id": "eed66a3d",
   "metadata": {},
   "source": [
    "# 2: Apply Data Engineering on Number of Doors and Price features."
   ]
  },
  {
   "cell_type": "markdown",
   "id": "94056061",
   "metadata": {},
   "source": [
    "### N Doors"
   ]
  },
  {
   "cell_type": "code",
   "execution_count": 8,
   "id": "4297c626",
   "metadata": {},
   "outputs": [
    {
     "data": {
      "text/plain": [
       "27     8558\n",
       "63    10795\n",
       "Name: Price, dtype: object"
      ]
     },
     "execution_count": 8,
     "metadata": {},
     "output_type": "execute_result"
    }
   ],
   "source": [
    "df[df.Ndoors.isna()].Price"
   ]
  },
  {
   "cell_type": "code",
   "execution_count": 9,
   "id": "571808f8",
   "metadata": {
    "scrolled": true
   },
   "outputs": [
    {
     "name": "stdout",
     "output_type": "stream",
     "text": [
      "['four']\n",
      "8358\n"
     ]
    }
   ],
   "source": [
    "for i in range(8300, 8590):\n",
    "    x = df[df.Price == str(i)].Ndoors.values\n",
    "    if len(x) > 0:\n",
    "        print(x)\n",
    "        print(i)\n",
    "        break"
   ]
  },
  {
   "cell_type": "code",
   "execution_count": 10,
   "id": "459c4276",
   "metadata": {
    "scrolled": false
   },
   "outputs": [
    {
     "data": {
      "text/plain": [
       "'8499'"
      ]
     },
     "execution_count": 10,
     "metadata": {},
     "output_type": "execute_result"
    }
   ],
   "source": [
    "df.iloc[81].Price"
   ]
  },
  {
   "cell_type": "code",
   "execution_count": 11,
   "id": "b4cb9deb",
   "metadata": {
    "scrolled": true
   },
   "outputs": [],
   "source": [
    "df.loc[27, \"Ndoors\"] = df.iloc[81].Ndoors"
   ]
  },
  {
   "cell_type": "code",
   "execution_count": 12,
   "id": "2165cbf5",
   "metadata": {},
   "outputs": [
    {
     "name": "stdout",
     "output_type": "stream",
     "text": [
      "['two']\n",
      "11048\n"
     ]
    },
    {
     "data": {
      "text/plain": [
       "73"
      ]
     },
     "execution_count": 12,
     "metadata": {},
     "output_type": "execute_result"
    }
   ],
   "source": [
    "for i in range(10975, 11200):\n",
    "    x = df[df.Price == str(i)].Ndoors.values\n",
    "    if len(x) > 0:\n",
    "        print(x)\n",
    "        print(i)\n",
    "        break\n",
    "i-10975"
   ]
  },
  {
   "cell_type": "code",
   "execution_count": 13,
   "id": "332ffabe",
   "metadata": {},
   "outputs": [
    {
     "name": "stdout",
     "output_type": "stream",
     "text": [
      "['two']\n",
      "10945\n"
     ]
    },
    {
     "data": {
      "text/plain": [
       "30"
      ]
     },
     "execution_count": 13,
     "metadata": {},
     "output_type": "execute_result"
    }
   ],
   "source": [
    "for i in range(10975-73, 10975):\n",
    "    x = df[df.Price == str(i)].Ndoors.values\n",
    "    if len(x) > 0:\n",
    "        print(x)\n",
    "        print(i)\n",
    "        break\n",
    "10975-i"
   ]
  },
  {
   "cell_type": "code",
   "execution_count": 14,
   "id": "f59e89f2",
   "metadata": {
    "scrolled": true
   },
   "outputs": [],
   "source": [
    "df.loc[63, \"Ndoors\"] = df[df.Price==\"10945\"].Ndoors.values"
   ]
  },
  {
   "cell_type": "code",
   "execution_count": 15,
   "id": "32df7298",
   "metadata": {},
   "outputs": [
    {
     "data": {
      "text/plain": [
       "0"
      ]
     },
     "execution_count": 15,
     "metadata": {},
     "output_type": "execute_result"
    }
   ],
   "source": [
    "df.Ndoors.isna().sum()"
   ]
  },
  {
   "cell_type": "markdown",
   "id": "94881044",
   "metadata": {},
   "source": [
    "# 3. Apply Data Engineering on Engine Size and Stroke features."
   ]
  },
  {
   "cell_type": "markdown",
   "id": "f20c9c69",
   "metadata": {},
   "source": [
    "## Engine Size"
   ]
  },
  {
   "cell_type": "code",
   "execution_count": 16,
   "id": "ad4a0fae",
   "metadata": {},
   "outputs": [
    {
     "name": "stderr",
     "output_type": "stream",
     "text": [
      "/usr/local/lib/python3.10/dist-packages/seaborn/_decorators.py:36: FutureWarning: Pass the following variables as keyword args: x, y. From version 0.12, the only valid positional argument will be `data`, and passing other arguments without an explicit keyword will result in an error or misinterpretation.\n",
      "  warnings.warn(\n"
     ]
    },
    {
     "data": {
      "image/png": "[encoded data removed]",
      "text/plain": [
       "<Figure size 432x288 with 1 Axes>"
      ]
     },
     "metadata": {
      "needs_background": "light"
     },
     "output_type": "display_data"
    }
   ],
   "source": [
    "cats = pd.cut(df.Engine_size.tolist(), 20)\n",
    "un = np.unique(cats.codes, return_counts=True)\n",
    "sns.barplot(un[0], un[1]);"
   ]
  },
  {
   "cell_type": "code",
   "execution_count": 17,
   "id": "efc6d7eb",
   "metadata": {
    "scrolled": false
   },
   "outputs": [
    {
     "data": {
      "image/png": "[encoded data removed]",
      "text/plain": [
       "<Figure size 432x288 with 1 Axes>"
      ]
     },
     "metadata": {
      "needs_background": "light"
     },
     "output_type": "display_data"
    }
   ],
   "source": [
    "sns.histplot(df.Engine_size, bins=20);"
   ]
  },
  {
   "cell_type": "markdown",
   "id": "a5fbb018",
   "metadata": {},
   "source": [
    "## Stroke"
   ]
  },
  {
   "cell_type": "code",
   "execution_count": 18,
   "id": "e246e4e2",
   "metadata": {},
   "outputs": [
    {
     "data": {
      "image/png": "[encoded data removed]",
      "text/plain": [
       "<Figure size 432x288 with 1 Axes>"
      ]
     },
     "metadata": {
      "needs_background": "light"
     },
     "output_type": "display_data"
    }
   ],
   "source": [
    "pd.to_numeric(df.Stroke[df.Stroke.notnull()]).plot(kind='box');"
   ]
  },
  {
   "cell_type": "code",
   "execution_count": 19,
   "id": "56cd935a",
   "metadata": {},
   "outputs": [
    {
     "data": {
      "text/plain": [
       "55    70\n",
       "56    70\n",
       "57    70\n",
       "58    80\n",
       "Name: Engine_size, dtype: int64"
      ]
     },
     "execution_count": 19,
     "metadata": {},
     "output_type": "execute_result"
    }
   ],
   "source": [
    "df[df.Stroke.isna()].Engine_size"
   ]
  },
  {
   "cell_type": "code",
   "execution_count": 20,
   "id": "4a6c2fda",
   "metadata": {},
   "outputs": [
    {
     "name": "stdout",
     "output_type": "stream",
     "text": [
      "['3.03']\n",
      "61\n",
      "[nan nan nan]\n",
      "70\n",
      "['3.07']\n",
      "79\n"
     ]
    }
   ],
   "source": [
    "for i in range(60, 80):\n",
    "    x = df[df.Engine_size == i].Stroke.values\n",
    "    if len(x) > 0:\n",
    "        print(x)\n",
    "        print(i)"
   ]
  },
  {
   "cell_type": "markdown",
   "id": "99aaed04",
   "metadata": {},
   "source": [
    "Since two values of the Stroke of Engine Size values are equidistant we'll take the round of the average Stroke values."
   ]
  },
  {
   "cell_type": "code",
   "execution_count": 21,
   "id": "b33f539d",
   "metadata": {},
   "outputs": [],
   "source": [
    "df.loc[55:58, \"Stroke\"] = round(3.03/3.07)"
   ]
  },
  {
   "cell_type": "code",
   "execution_count": 22,
   "id": "6d1bb4c5",
   "metadata": {},
   "outputs": [
    {
     "name": "stdout",
     "output_type": "stream",
     "text": [
      "[1 1 1]\n",
      "70\n",
      "['3.07']\n",
      "79\n",
      "[1]\n",
      "80\n"
     ]
    }
   ],
   "source": [
    "for i in range(70, 90):\n",
    "    x = df[df.Engine_size == i].Stroke.values\n",
    "    if len(x) > 0:\n",
    "        print(x)\n",
    "        print(i)"
   ]
  },
  {
   "cell_type": "markdown",
   "id": "6aa58fd3",
   "metadata": {},
   "source": [
    "As there is only one value close to the missing point we replace it with that."
   ]
  },
  {
   "cell_type": "code",
   "execution_count": 23,
   "id": "027e09ff",
   "metadata": {},
   "outputs": [],
   "source": [
    "df.loc[58, \"Stroke\"] = 3.07"
   ]
  },
  {
   "cell_type": "code",
   "execution_count": 24,
   "id": "54c64045",
   "metadata": {},
   "outputs": [
    {
     "data": {
      "image/png": "[encoded data removed]",
      "text/plain": [
       "<Figure size 432x288 with 1 Axes>"
      ]
     },
     "metadata": {
      "needs_background": "light"
     },
     "output_type": "display_data"
    }
   ],
   "source": [
    "df.Stroke = pd.to_numeric(df.Stroke)\n",
    "df.Stroke = (df.Stroke - df.Stroke.mean())/df.Stroke.std()\n",
    "df.Stroke.plot(kind='hist');"
   ]
  },
  {
   "cell_type": "markdown",
   "id": "2c2e14bb",
   "metadata": {},
   "source": [
    "As we apply Standardization on the Stroke feature it doesn't change it's structure as there are many extreme values which can be called as potential outliers as they are 2 standard deviation away from the mean."
   ]
  },
  {
   "cell_type": "markdown",
   "id": "21fcf5cb",
   "metadata": {},
   "source": [
    "# 5: Dimensionality Reduction Analysis."
   ]
  },
  {
   "cell_type": "markdown",
   "id": "593d0bf2",
   "metadata": {},
   "source": [
    "Before applying PCA we need to remove the Null values as PCA doesn't work on Null values."
   ]
  },
  {
   "cell_type": "code",
   "execution_count": 25,
   "id": "7aef7353",
   "metadata": {},
   "outputs": [
    {
     "data": {
      "text/plain": [
       "Wheel_base           0\n",
       "Length               0\n",
       "Width                0\n",
       "Height               0\n",
       "Curb_weight          0\n",
       "Engine_size          0\n",
       "Compression_ratio    0\n",
       "Horsepower           2\n",
       "Peak_rpm             2\n",
       "City_mpg             0\n",
       "dtype: int64"
      ]
     },
     "execution_count": 25,
     "metadata": {},
     "output_type": "execute_result"
    }
   ],
   "source": [
    "from sklearn.decomposition import PCA\n",
    "new_df = df[['Wheel_base', 'Length', 'Width','Height','Curb_weight','Engine_size',\n",
    "      'Compression_ratio',\"Horsepower\", 'Peak_rpm','City_mpg']]\n",
    "new_df.isna().sum()"
   ]
  },
  {
   "cell_type": "code",
   "execution_count": 26,
   "id": "282e476c",
   "metadata": {},
   "outputs": [
    {
     "data": {
      "text/plain": [
       "Int64Index([130, 131], dtype='int64')"
      ]
     },
     "execution_count": 26,
     "metadata": {},
     "output_type": "execute_result"
    }
   ],
   "source": [
    "new_df[new_df.Horsepower.isna()].index\n",
    "new_df[new_df.Peak_rpm.isna()].index"
   ]
  },
  {
   "cell_type": "code",
   "execution_count": 27,
   "id": "b60b7dd7",
   "metadata": {},
   "outputs": [
    {
     "data": {
      "image/png": "[encoded data removed]",
      "text/plain": [
       "<Figure size 432x288 with 1 Axes>"
      ]
     },
     "metadata": {
      "needs_background": "light"
     },
     "output_type": "display_data"
    }
   ],
   "source": [
    "new_df.Peak_rpm.value_counts().plot(kind='bar');"
   ]
  },
  {
   "cell_type": "code",
   "execution_count": 28,
   "id": "7df963dd",
   "metadata": {},
   "outputs": [
    {
     "data": {
      "text/plain": [
       "<AxesSubplot:>"
      ]
     },
     "execution_count": 28,
     "metadata": {},
     "output_type": "execute_result"
    },
    {
     "data": {
      "image/png": "[encoded data removed]",
      "text/plain": [
       "<Figure size 720x360 with 1 Axes>"
      ]
     },
     "metadata": {
      "needs_background": "light"
     },
     "output_type": "display_data"
    }
   ],
   "source": [
    "plt.figure(figsize=(10,5))\n",
    "new_df.Horsepower.value_counts().plot(kind='bar')"
   ]
  },
  {
   "cell_type": "code",
   "execution_count": 30,
   "id": "6af32479",
   "metadata": {
    "scrolled": true
   },
   "outputs": [
    {
     "name": "stderr",
     "output_type": "stream",
     "text": [
      "/tmp/ipykernel_46655/2637612056.py:3: SettingWithCopyWarning: \n",
      "A value is trying to be set on a copy of a slice from a DataFrame.\n",
      "Try using .loc[row_indexer,col_indexer] = value instead\n",
      "\n",
      "See the caveats in the documentation: https://pandas.pydata.org/pandas-docs/stable/user_guide/indexing.html#returning-a-view-versus-a-copy\n",
      "  new_df.loc[:, \"Horsepower\"] = new_df[\"Horsepower\"].apply(pd.to_numeric)\n",
      "/tmp/ipykernel_46655/2637612056.py:4: SettingWithCopyWarning: \n",
      "A value is trying to be set on a copy of a slice from a DataFrame.\n",
      "Try using .loc[row_indexer,col_indexer] = value instead\n",
      "\n",
      "See the caveats in the documentation: https://pandas.pydata.org/pandas-docs/stable/user_guide/indexing.html#returning-a-view-versus-a-copy\n",
      "  new_df.loc[:, \"Peak_rpm\"] = new_df[\"Peak_rpm\"].apply(pd.to_numeric)\n"
     ]
    },
    {
     "data": {
      "text/plain": [
       "Wheel_base           0\n",
       "Length               0\n",
       "Width                0\n",
       "Height               0\n",
       "Curb_weight          0\n",
       "Engine_size          0\n",
       "Compression_ratio    0\n",
       "Horsepower           0\n",
       "Peak_rpm             0\n",
       "City_mpg             0\n",
       "dtype: int64"
      ]
     },
     "execution_count": 30,
     "metadata": {},
     "output_type": "execute_result"
    }
   ],
   "source": [
    "new_df.loc[130:132, \"Horsepower\"] = 68 \n",
    "new_df.loc[130:132, \"Peak_rpm\"] = 5500\n",
    "new_df.loc[:, \"Horsepower\"] = new_df[\"Horsepower\"].apply(pd.to_numeric)\n",
    "new_df.loc[:, \"Peak_rpm\"] = new_df[\"Peak_rpm\"].apply(pd.to_numeric)\n",
    "new_df.isna().sum()"
   ]
  },
  {
   "cell_type": "markdown",
   "id": "d27137a9",
   "metadata": {},
   "source": [
    "# Using PCA to reduce the dimension and get 95% information from the dataset."
   ]
  },
  {
   "cell_type": "code",
   "execution_count": 32,
   "id": "f5a77aaf",
   "metadata": {
    "scrolled": true
   },
   "outputs": [
    {
     "name": "stdout",
     "output_type": "stream",
     "text": [
      "[  70.47865451 -109.38196353   11.51191339    5.86941303    3.53808605]\n"
     ]
    }
   ],
   "source": [
    "pca = PCA(5)\n",
    "principalComponents = pca.fit_transform(new_df)\n",
    "print(principalComponents[0])"
   ]
  }
 ],
 "metadata": {
  "kernelspec": {
   "display_name": "Python 3 (ipykernel)",
   "language": "python",
   "name": "python3"
  },
  "language_info": {
   "codemirror_mode": {
    "name": "ipython",
    "version": 3
   },
   "file_extension": ".py",
   "mimetype": "text/x-python",
   "name": "python",
   "nbconvert_exporter": "python",
   "pygments_lexer": "ipython3",
   "version": "3.10.6"
  }
 },
 "nbformat": 4,
 "nbformat_minor": 5
}
