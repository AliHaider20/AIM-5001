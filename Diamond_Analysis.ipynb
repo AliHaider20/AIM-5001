{
 "cells": [
  {
   "cell_type": "code",
   "execution_count": 1,
   "id": "ec68b602",
   "metadata": {},
   "outputs": [],
   "source": [
    "import pandas as pd\n",
    "import matplotlib.pyplot as plt\n",
    "import seaborn as sns"
   ]
  },
  {
   "cell_type": "code",
   "execution_count": 2,
   "id": "48aa2ea2",
   "metadata": {
    "scrolled": true
   },
   "outputs": [
    {
     "data": {
      "text/html": [
       "<div>\n",
       "<style scoped>\n",
       "    .dataframe tbody tr th:only-of-type {\n",
       "        vertical-align: middle;\n",
       "    }\n",
       "\n",
       "    .dataframe tbody tr th {\n",
       "        vertical-align: top;\n",
       "    }\n",
       "\n",
       "    .dataframe thead th {\n",
       "        text-align: right;\n",
       "    }\n",
       "</style>\n",
       "<table border=\"1\" class=\"dataframe\">\n",
       "  <thead>\n",
       "    <tr style=\"text-align: right;\">\n",
       "      <th></th>\n",
       "      <th>carat</th>\n",
       "      <th>cut</th>\n",
       "      <th>color</th>\n",
       "      <th>clarity</th>\n",
       "      <th>depth</th>\n",
       "      <th>table</th>\n",
       "      <th>price</th>\n",
       "      <th>x</th>\n",
       "      <th>y</th>\n",
       "      <th>z</th>\n",
       "    </tr>\n",
       "  </thead>\n",
       "  <tbody>\n",
       "    <tr>\n",
       "      <th>0</th>\n",
       "      <td>0.23</td>\n",
       "      <td>Ideal</td>\n",
       "      <td>E</td>\n",
       "      <td>SI2</td>\n",
       "      <td>61.5</td>\n",
       "      <td>55.0</td>\n",
       "      <td>326</td>\n",
       "      <td>3.95</td>\n",
       "      <td>3.98</td>\n",
       "      <td>2.43</td>\n",
       "    </tr>\n",
       "    <tr>\n",
       "      <th>1</th>\n",
       "      <td>0.21</td>\n",
       "      <td>Premium</td>\n",
       "      <td>E</td>\n",
       "      <td>SI1</td>\n",
       "      <td>59.8</td>\n",
       "      <td>61.0</td>\n",
       "      <td>326</td>\n",
       "      <td>3.89</td>\n",
       "      <td>3.84</td>\n",
       "      <td>2.31</td>\n",
       "    </tr>\n",
       "    <tr>\n",
       "      <th>2</th>\n",
       "      <td>0.23</td>\n",
       "      <td>Good</td>\n",
       "      <td>E</td>\n",
       "      <td>VS1</td>\n",
       "      <td>56.9</td>\n",
       "      <td>65.0</td>\n",
       "      <td>327</td>\n",
       "      <td>4.05</td>\n",
       "      <td>4.07</td>\n",
       "      <td>2.31</td>\n",
       "    </tr>\n",
       "    <tr>\n",
       "      <th>3</th>\n",
       "      <td>0.29</td>\n",
       "      <td>Premium</td>\n",
       "      <td>I</td>\n",
       "      <td>VS2</td>\n",
       "      <td>62.4</td>\n",
       "      <td>58.0</td>\n",
       "      <td>334</td>\n",
       "      <td>4.20</td>\n",
       "      <td>4.23</td>\n",
       "      <td>2.63</td>\n",
       "    </tr>\n",
       "    <tr>\n",
       "      <th>4</th>\n",
       "      <td>0.31</td>\n",
       "      <td>Good</td>\n",
       "      <td>J</td>\n",
       "      <td>SI2</td>\n",
       "      <td>63.3</td>\n",
       "      <td>58.0</td>\n",
       "      <td>335</td>\n",
       "      <td>4.34</td>\n",
       "      <td>4.35</td>\n",
       "      <td>2.75</td>\n",
       "    </tr>\n",
       "  </tbody>\n",
       "</table>\n",
       "</div>"
      ],
      "text/plain": [
       "   carat      cut color clarity  depth  table  price     x     y     z\n",
       "0   0.23    Ideal     E     SI2   61.5   55.0    326  3.95  3.98  2.43\n",
       "1   0.21  Premium     E     SI1   59.8   61.0    326  3.89  3.84  2.31\n",
       "2   0.23     Good     E     VS1   56.9   65.0    327  4.05  4.07  2.31\n",
       "3   0.29  Premium     I     VS2   62.4   58.0    334  4.20  4.23  2.63\n",
       "4   0.31     Good     J     SI2   63.3   58.0    335  4.34  4.35  2.75"
      ]
     },
     "execution_count": 2,
     "metadata": {},
     "output_type": "execute_result"
    }
   ],
   "source": [
    "df = pd.read_csv(\"https://raw.githubusercontent.com/AliHaider20/AIM-5001/main/diamonds.csv\").drop(\"Unnamed: 0\", axis=1)\n",
    "# Checking if the dataframe is correctly loaded.\n",
    "df.head()"
   ]
  },
  {
   "cell_type": "markdown",
   "id": "8e36208d",
   "metadata": {},
   "source": [
    "# Data Summary\n",
    "\n",
    "- **Price** - Price in US dollars (326 USD -- 18,823 USD)\n",
    "    + **Mean** - 3932.799722\n",
    "    + **Standard Deviation** - 3989.439738\t\n",
    "\n",
    "- **Carat** - Weight of the diamond (0.2--5.01)\n",
    "    + **Mean** - 0.797940\n",
    "    + **Standard Deviation** - 0.474011\n",
    "\n",
    "- **Cut** - Quality of the cut (Fair, Good, Very Good, Premium, Ideal). Here are the percentages of the Cut values present in the dataset.\n",
    "    + Ideal: 0.399537, Premium: 0.255673, Very Good: 0.223990, Good: 0.090953, Fair: 0.029848.\n",
    "\n",
    "- **Color** - diamond colour, from D (best) to J (worst). Here are the percentages of the Color values present in the dataset.\n",
    "    + G: 0.209344, E: 0.181628, F: 0.176900, H: 0.153949, D: 0.125603, I: 0.100519, J: 0.052058.\n",
    "    \n",
    "- **Clarity** - a measurement of how clear the diamond is (I1 (worst), SI2, SI1, VS2, VS1, VVS2, VVS1, IF (best)). Here are the percentages of the Clarity values present in the dataset.\n",
    "    + SI1: 0.242214, VS2: 0.227253, SI2: 0.170449, VS1: 0.151483, VVS2: 0.093919, VVS1: 0.067760, IF: 0.033185, I1: 0.013737.\n",
    "\n",
    "- **X** - length in mm (0--10.74)\n",
    "    + **Mean** - 5.731157\n",
    "    + **Standard Deviation** - 1.121761\n",
    "\n",
    "- **Y** - y width in mm (0--58.9)\n",
    "    + **Mean** - 5.734526\n",
    "    + **Standard Deviation** - 1.142135\n",
    "\n",
    "- **Z** - depth in mm (0--31.8)\n",
    "    + **Mean** - 3.538734\n",
    "    + **Standard Deviation** - 0.705699\n",
    "\n",
    "- **Depth** - total depth percentage = z / mean(x, y) = 2 * z / (x + y) (43--79)\n",
    "    + **Mean** - 61.749405\n",
    "    + **Standard Deviation** - 1.432621\n",
    "\n",
    "- **Table** - width of top of diamond relative to widest point (43--95)\n",
    "    + **Mean** - 57.457184\n",
    "    + **Standard Deviation** - 2.234491"
   ]
  },
  {
   "cell_type": "code",
   "execution_count": 3,
   "id": "5503b8d8",
   "metadata": {},
   "outputs": [
    {
     "data": {
      "text/html": [
       "<div>\n",
       "<style scoped>\n",
       "    .dataframe tbody tr th:only-of-type {\n",
       "        vertical-align: middle;\n",
       "    }\n",
       "\n",
       "    .dataframe tbody tr th {\n",
       "        vertical-align: top;\n",
       "    }\n",
       "\n",
       "    .dataframe thead th {\n",
       "        text-align: right;\n",
       "    }\n",
       "</style>\n",
       "<table border=\"1\" class=\"dataframe\">\n",
       "  <thead>\n",
       "    <tr style=\"text-align: right;\">\n",
       "      <th></th>\n",
       "      <th>count</th>\n",
       "      <th>mean</th>\n",
       "      <th>std</th>\n",
       "      <th>min</th>\n",
       "      <th>25%</th>\n",
       "      <th>50%</th>\n",
       "      <th>75%</th>\n",
       "      <th>max</th>\n",
       "    </tr>\n",
       "  </thead>\n",
       "  <tbody>\n",
       "    <tr>\n",
       "      <th>carat</th>\n",
       "      <td>53940.0</td>\n",
       "      <td>0.797940</td>\n",
       "      <td>0.474011</td>\n",
       "      <td>0.2</td>\n",
       "      <td>0.40</td>\n",
       "      <td>0.70</td>\n",
       "      <td>1.04</td>\n",
       "      <td>5.01</td>\n",
       "    </tr>\n",
       "    <tr>\n",
       "      <th>depth</th>\n",
       "      <td>53940.0</td>\n",
       "      <td>61.749405</td>\n",
       "      <td>1.432621</td>\n",
       "      <td>43.0</td>\n",
       "      <td>61.00</td>\n",
       "      <td>61.80</td>\n",
       "      <td>62.50</td>\n",
       "      <td>79.00</td>\n",
       "    </tr>\n",
       "    <tr>\n",
       "      <th>table</th>\n",
       "      <td>53940.0</td>\n",
       "      <td>57.457184</td>\n",
       "      <td>2.234491</td>\n",
       "      <td>43.0</td>\n",
       "      <td>56.00</td>\n",
       "      <td>57.00</td>\n",
       "      <td>59.00</td>\n",
       "      <td>95.00</td>\n",
       "    </tr>\n",
       "    <tr>\n",
       "      <th>price</th>\n",
       "      <td>53940.0</td>\n",
       "      <td>3932.799722</td>\n",
       "      <td>3989.439738</td>\n",
       "      <td>326.0</td>\n",
       "      <td>950.00</td>\n",
       "      <td>2401.00</td>\n",
       "      <td>5324.25</td>\n",
       "      <td>18823.00</td>\n",
       "    </tr>\n",
       "    <tr>\n",
       "      <th>x</th>\n",
       "      <td>53940.0</td>\n",
       "      <td>5.731157</td>\n",
       "      <td>1.121761</td>\n",
       "      <td>0.0</td>\n",
       "      <td>4.71</td>\n",
       "      <td>5.70</td>\n",
       "      <td>6.54</td>\n",
       "      <td>10.74</td>\n",
       "    </tr>\n",
       "    <tr>\n",
       "      <th>y</th>\n",
       "      <td>53940.0</td>\n",
       "      <td>5.734526</td>\n",
       "      <td>1.142135</td>\n",
       "      <td>0.0</td>\n",
       "      <td>4.72</td>\n",
       "      <td>5.71</td>\n",
       "      <td>6.54</td>\n",
       "      <td>58.90</td>\n",
       "    </tr>\n",
       "    <tr>\n",
       "      <th>z</th>\n",
       "      <td>53940.0</td>\n",
       "      <td>3.538734</td>\n",
       "      <td>0.705699</td>\n",
       "      <td>0.0</td>\n",
       "      <td>2.91</td>\n",
       "      <td>3.53</td>\n",
       "      <td>4.04</td>\n",
       "      <td>31.80</td>\n",
       "    </tr>\n",
       "  </tbody>\n",
       "</table>\n",
       "</div>"
      ],
      "text/plain": [
       "         count         mean          std    min     25%      50%      75%  \\\n",
       "carat  53940.0     0.797940     0.474011    0.2    0.40     0.70     1.04   \n",
       "depth  53940.0    61.749405     1.432621   43.0   61.00    61.80    62.50   \n",
       "table  53940.0    57.457184     2.234491   43.0   56.00    57.00    59.00   \n",
       "price  53940.0  3932.799722  3989.439738  326.0  950.00  2401.00  5324.25   \n",
       "x      53940.0     5.731157     1.121761    0.0    4.71     5.70     6.54   \n",
       "y      53940.0     5.734526     1.142135    0.0    4.72     5.71     6.54   \n",
       "z      53940.0     3.538734     0.705699    0.0    2.91     3.53     4.04   \n",
       "\n",
       "            max  \n",
       "carat      5.01  \n",
       "depth     79.00  \n",
       "table     95.00  \n",
       "price  18823.00  \n",
       "x         10.74  \n",
       "y         58.90  \n",
       "z         31.80  "
      ]
     },
     "execution_count": 3,
     "metadata": {},
     "output_type": "execute_result"
    }
   ],
   "source": [
    "df.describe().T"
   ]
  },
  {
   "cell_type": "code",
   "execution_count": 4,
   "id": "1f251ece",
   "metadata": {},
   "outputs": [
    {
     "name": "stdout",
     "output_type": "stream",
     "text": [
      "53940\n",
      "<class 'pandas.core.frame.DataFrame'>\n",
      "RangeIndex: 53940 entries, 0 to 53939\n",
      "Data columns (total 10 columns):\n",
      " #   Column   Non-Null Count  Dtype  \n",
      "---  ------   --------------  -----  \n",
      " 0   carat    53940 non-null  float64\n",
      " 1   cut      53940 non-null  object \n",
      " 2   color    53940 non-null  object \n",
      " 3   clarity  53940 non-null  object \n",
      " 4   depth    53940 non-null  float64\n",
      " 5   table    53940 non-null  float64\n",
      " 6   price    53940 non-null  int64  \n",
      " 7   x        53940 non-null  float64\n",
      " 8   y        53940 non-null  float64\n",
      " 9   z        53940 non-null  float64\n",
      "dtypes: float64(6), int64(1), object(3)\n",
      "memory usage: 4.1+ MB\n"
     ]
    }
   ],
   "source": [
    "print(len(df))\n",
    "df.info();"
   ]
  },
  {
   "cell_type": "code",
   "execution_count": 5,
   "id": "dc725200",
   "metadata": {},
   "outputs": [
    {
     "data": {
      "text/plain": [
       "Ideal        0.399537\n",
       "Premium      0.255673\n",
       "Very Good    0.223990\n",
       "Good         0.090953\n",
       "Fair         0.029848\n",
       "Name: cut, dtype: float64"
      ]
     },
     "execution_count": 5,
     "metadata": {},
     "output_type": "execute_result"
    }
   ],
   "source": [
    "df.cut.value_counts(normalize=True)"
   ]
  },
  {
   "cell_type": "code",
   "execution_count": 6,
   "id": "8a7dd632",
   "metadata": {},
   "outputs": [
    {
     "data": {
      "text/plain": [
       "SI1     0.242214\n",
       "VS2     0.227253\n",
       "SI2     0.170449\n",
       "VS1     0.151483\n",
       "VVS2    0.093919\n",
       "VVS1    0.067760\n",
       "IF      0.033185\n",
       "I1      0.013737\n",
       "Name: clarity, dtype: float64"
      ]
     },
     "execution_count": 6,
     "metadata": {},
     "output_type": "execute_result"
    }
   ],
   "source": [
    "df.clarity.value_counts(normalize=True)"
   ]
  },
  {
   "cell_type": "code",
   "execution_count": 7,
   "id": "75cfdfb5",
   "metadata": {
    "scrolled": true
   },
   "outputs": [
    {
     "data": {
      "text/plain": [
       "G    0.209344\n",
       "E    0.181628\n",
       "F    0.176900\n",
       "H    0.153949\n",
       "D    0.125603\n",
       "I    0.100519\n",
       "J    0.052058\n",
       "Name: color, dtype: float64"
      ]
     },
     "execution_count": 7,
     "metadata": {},
     "output_type": "execute_result"
    }
   ],
   "source": [
    "df.color.value_counts(normalize=True)"
   ]
  },
  {
   "cell_type": "markdown",
   "id": "f6367c28",
   "metadata": {},
   "source": [
    "# EDA"
   ]
  },
  {
   "cell_type": "code",
   "execution_count": 8,
   "id": "e350dd2d",
   "metadata": {},
   "outputs": [
    {
     "data": {
      "image/png": "[encoded data removed]",
      "text/plain": [
       "<Figure size 576x360 with 1 Axes>"
      ]
     },
     "metadata": {
      "needs_background": "light"
     },
     "output_type": "display_data"
    }
   ],
   "source": [
    "plt.figure(figsize=(8,5))\n",
    "plt.title(\"Z (Depth of the Diamonds)\")\n",
    "plt.hist(df.z);"
   ]
  },
  {
   "cell_type": "markdown",
   "id": "5a805be5",
   "metadata": {},
   "source": [
    "# Obeservations\n",
    "- The data is normally distributed.\n",
    "- There are very few Diamonds with depth less than 5."
   ]
  },
  {
   "cell_type": "code",
   "execution_count": 9,
   "id": "5154494a",
   "metadata": {},
   "outputs": [
    {
     "data": {
      "image/png": "[encoded data removed]",
      "text/plain": [
       "<Figure size 576x360 with 1 Axes>"
      ]
     },
     "metadata": {
      "needs_background": "light"
     },
     "output_type": "display_data"
    }
   ],
   "source": [
    "plt.figure(figsize=(8,5))\n",
    "plt.title(\"Y (Width of the Diamonds)\")\n",
    "sns.histplot(x='y', data=df);"
   ]
  },
  {
   "cell_type": "markdown",
   "id": "b35885f1",
   "metadata": {},
   "source": [
    "# Observations\n",
    "- The data looks to be rightly skewed."
   ]
  },
  {
   "cell_type": "code",
   "execution_count": 10,
   "id": "ca0d0b20",
   "metadata": {},
   "outputs": [
    {
     "data": {
      "image/png": "[encoded data removed]",
      "text/plain": [
       "<Figure size 576x360 with 1 Axes>"
      ]
     },
     "metadata": {
      "needs_background": "light"
     },
     "output_type": "display_data"
    }
   ],
   "source": [
    "plt.figure(figsize=(8,5))\n",
    "plt.title(\"X (Length of the Diamonds)\")\n",
    "sns.histplot(x='x', data=df, bins=50);"
   ]
  },
  {
   "cell_type": "markdown",
   "id": "c53af500",
   "metadata": {},
   "source": [
    "# Observations\n",
    "- The length data looks to be normally distributed.\n",
    "- Most of the Diamonds have length less than 6.2.\n",
    "- Most of the Diamonds length's fall in the range 4-5."
   ]
  },
  {
   "cell_type": "code",
   "execution_count": 11,
   "id": "96265e9c",
   "metadata": {},
   "outputs": [
    {
     "data": {
      "image/png": "[encoded data removed]",
      "text/plain": [
       "<Figure size 576x360 with 1 Axes>"
      ]
     },
     "metadata": {
      "needs_background": "light"
     },
     "output_type": "display_data"
    }
   ],
   "source": [
    "plt.figure(figsize=(8,5))\n",
    "plt.title(\"Price of the Diamonds\")\n",
    "sns.histplot(x='price', data=df, bins=50);"
   ]
  },
  {
   "cell_type": "markdown",
   "id": "a3306665",
   "metadata": {},
   "source": [
    "# Observations\n",
    "- The Price data is positively skewed.\n",
    "- Most of the data value lie between 0 and 4500."
   ]
  },
  {
   "cell_type": "code",
   "execution_count": 12,
   "id": "baa19d34",
   "metadata": {},
   "outputs": [
    {
     "data": {
      "image/png": "[encoded data removed]",
      "text/plain": [
       "<Figure size 576x360 with 1 Axes>"
      ]
     },
     "metadata": {
      "needs_background": "light"
     },
     "output_type": "display_data"
    }
   ],
   "source": [
    "plt.figure(figsize=(8,5))\n",
    "plt.title(\" Table (width of top of diamond relative to widest point\")\n",
    "sns.histplot(x='table', data=df, bins=50);"
   ]
  },
  {
   "cell_type": "markdown",
   "id": "4dcfec1c",
   "metadata": {},
   "source": [
    "# Observations\n",
    "- The data is table normally distributed.\n",
    "- Most of the table data points lie between 50 and 50.8."
   ]
  },
  {
   "cell_type": "code",
   "execution_count": 13,
   "id": "a68ce006",
   "metadata": {
    "scrolled": true
   },
   "outputs": [
    {
     "data": {
      "image/png": "[encoded data removed]",
      "text/plain": [
       "<Figure size 576x360 with 1 Axes>"
      ]
     },
     "metadata": {
      "needs_background": "light"
     },
     "output_type": "display_data"
    }
   ],
   "source": [
    "plt.figure(figsize=(8,5))\n",
    "plt.title(\"X (Depth of the Diamonds)\")\n",
    "sns.histplot(x='depth', data=df, bins=50);"
   ]
  },
  {
   "cell_type": "markdown",
   "id": "a1c0e72e",
   "metadata": {},
   "source": [
    "# Observations\n",
    "- The data is normally distributed.\n",
    "- Most of Diamonds have depth of 4.37 mm."
   ]
  },
  {
   "cell_type": "code",
   "execution_count": 14,
   "id": "895419ab",
   "metadata": {
    "scrolled": true
   },
   "outputs": [
    {
     "data": {
      "image/png": "[encoded data removed]",
      "text/plain": [
       "<Figure size 576x360 with 1 Axes>"
      ]
     },
     "metadata": {
      "needs_background": "light"
     },
     "output_type": "display_data"
    }
   ],
   "source": [
    "plt.figure(figsize=(8,5))\n",
    "plt.title(\"Clarity of the diamonds\")\n",
    "sns.countplot(x=\"clarity\", data = df);"
   ]
  },
  {
   "cell_type": "markdown",
   "id": "21a2005a",
   "metadata": {},
   "source": [
    "# Observations\n",
    "- Most of the diamonds are of SI2, SI1, and VS2 i.e average quality.\n",
    "- There are only few diamonds with IF (best) quality."
   ]
  },
  {
   "cell_type": "code",
   "execution_count": 15,
   "id": "a25e9517",
   "metadata": {
    "scrolled": true
   },
   "outputs": [
    {
     "data": {
      "image/png": "[encoded data removed]",
      "text/plain": [
       "<Figure size 576x360 with 1 Axes>"
      ]
     },
     "metadata": {
      "needs_background": "light"
     },
     "output_type": "display_data"
    }
   ],
   "source": [
    "plt.figure(figsize=(8,5))\n",
    "df.carat.plot(kind='hist');"
   ]
  },
  {
   "cell_type": "markdown",
   "id": "6469e166",
   "metadata": {},
   "source": [
    "# Observations\n",
    "- The carat datapoints are positively skewed.\n",
    "- Most of the datapoints lie between 0.2 and 0.9."
   ]
  },
  {
   "cell_type": "code",
   "execution_count": 16,
   "id": "2bc520ce",
   "metadata": {},
   "outputs": [
    {
     "data": {
      "image/png": "[encoded data removed]",
      "text/plain": [
       "<Figure size 576x360 with 1 Axes>"
      ]
     },
     "metadata": {
      "needs_background": "light"
     },
     "output_type": "display_data"
    }
   ],
   "source": [
    "plt.figure(figsize=(8,5))\n",
    "sns.countplot(x= 'cut', data=df);"
   ]
  },
  {
   "cell_type": "markdown",
   "id": "cc179f02",
   "metadata": {},
   "source": [
    "# Observations\n",
    "- Most of the diamonds have cut quality of Ideal and Premium which are considered to be best cut quality."
   ]
  },
  {
   "cell_type": "code",
   "execution_count": 17,
   "id": "0550202f",
   "metadata": {},
   "outputs": [
    {
     "data": {
      "image/png": "[encoded data removed]",
      "text/plain": [
       "<Figure size 576x360 with 1 Axes>"
      ]
     },
     "metadata": {
      "needs_background": "light"
     },
     "output_type": "display_data"
    }
   ],
   "source": [
    "plt.figure(figsize=(8,5))\n",
    "sns.countplot(x= 'color', data=df);"
   ]
  },
  {
   "cell_type": "markdown",
   "id": "0ebd1b31",
   "metadata": {},
   "source": [
    "# Observations\n",
    "- Most of the diamonds have colors E, H, F, and G which are considered as Good.\n",
    "- We've more than 6000 daimonds with best color.\n",
    "- There are very less daimonds with worst color i.e J."
   ]
  },
  {
   "cell_type": "markdown",
   "id": "1a20a499",
   "metadata": {},
   "source": [
    "# Inferences"
   ]
  },
  {
   "cell_type": "markdown",
   "id": "e4e911e4",
   "metadata": {},
   "source": [
    "## Q1: What proportion of diamonds are between .30 and 1.08 carats?"
   ]
  },
  {
   "cell_type": "code",
   "execution_count": 18,
   "id": "6a1d28a7",
   "metadata": {},
   "outputs": [
    {
     "name": "stdout",
     "output_type": "stream",
     "text": [
      "The proportion of the diamonds whos carat values comes between .30 and 1.08 (exclusive) is 0.6939933259176864\n"
     ]
    }
   ],
   "source": [
    "print(\"The proportion of the diamonds whos carat values comes between .30 and 1.08 (exclusive) is\", len(df[(df.carat > .30) & (df.carat < 1.08)])/len(df))"
   ]
  },
  {
   "cell_type": "markdown",
   "id": "4b862008",
   "metadata": {},
   "source": [
    "## Q2: How many of the diamonds have equal x and y dimensions?"
   ]
  },
  {
   "cell_type": "code",
   "execution_count": 19,
   "id": "b2f223c5",
   "metadata": {},
   "outputs": [
    {
     "name": "stdout",
     "output_type": "stream",
     "text": [
      "There are 17 datapoints where length and width of the diamond are the same\n"
     ]
    }
   ],
   "source": [
    "print(f\"There are {len(df[df.x == df.y])} datapoints where length and width of the diamond are the same\")"
   ]
  },
  {
   "cell_type": "markdown",
   "id": "cbf1bb45",
   "metadata": {},
   "source": [
    "## Q3: How many of the diamonds have a carat value that is less than the mean carat value?"
   ]
  },
  {
   "cell_type": "code",
   "execution_count": 20,
   "id": "76bd7e63",
   "metadata": {},
   "outputs": [
    {
     "name": "stdout",
     "output_type": "stream",
     "text": [
      "There are 31127 diamonds whose carat values are less than mean carat value\n"
     ]
    }
   ],
   "source": [
    "print(f\"There are {len(df[df.carat < df.carat.mean()])} diamonds whose carat values are less than mean carat value\")"
   ]
  },
  {
   "cell_type": "markdown",
   "id": "789c86aa",
   "metadata": {},
   "source": [
    "## Q4: How many diamonds have a Premium cut or better?"
   ]
  },
  {
   "cell_type": "code",
   "execution_count": 21,
   "id": "069cc871",
   "metadata": {},
   "outputs": [
    {
     "name": "stdout",
     "output_type": "stream",
     "text": [
      "There are 35342 diamonds who has Premium cut or Ideal\n"
     ]
    }
   ],
   "source": [
    "print(f\"There are {len(df[(df.cut == 'Premium') | (df.cut == 'Ideal')])} diamonds who has Premium cut or Ideal\")"
   ]
  },
  {
   "cell_type": "markdown",
   "id": "12eed145",
   "metadata": {},
   "source": [
    "## Q5: Which diamond has the highest price per carat? What is its value?\n"
   ]
  },
  {
   "cell_type": "code",
   "execution_count": 22,
   "id": "bc117c6e",
   "metadata": {},
   "outputs": [
    {
     "name": "stdout",
     "output_type": "stream",
     "text": [
      "Diamond number 27635 has highest price per carat value\n"
     ]
    }
   ],
   "source": [
    "price_per_carat = (df.price/df.carat)\n",
    "print(\"Diamond number {0} has highest price per carat value\".format(price_per_carat[price_per_carat == price_per_carat.max()].index[0]))"
   ]
  },
  {
   "cell_type": "markdown",
   "id": "f800beb8",
   "metadata": {},
   "source": [
    "## Q6: Using both Matplolib and Seaborn, make boxplots of the diamond price for each distinct cut value and discuss any conclusions you can draw from the appearance of the boxplots."
   ]
  },
  {
   "cell_type": "code",
   "execution_count": 23,
   "id": "7a1f0faf",
   "metadata": {},
   "outputs": [
    {
     "data": {
      "image/png": "[encoded data removed]",
      "text/plain": [
       "<Figure size 1080x576 with 6 Axes>"
      ]
     },
     "metadata": {
      "needs_background": "light"
     },
     "output_type": "display_data"
    }
   ],
   "source": [
    "fig, axs = plt.subplots(2,3, figsize=(15,8))\n",
    "axs[0,0].boxplot(df[df.cut == \"Premium\"].price, vert=False)\n",
    "axs[0,0].set_title(\"Premium\")\n",
    "axs[0,1].boxplot(df[df.cut == \"Ideal\"].price, vert=False)\n",
    "axs[0,1].set_title(\"Ideal\")\n",
    "axs[0,2].boxplot(df[df.cut == \"Good\"].price, vert=False)\n",
    "axs[0,2].set_title(\"Good\")\n",
    "axs[1,0].boxplot(df[df.cut == \"Very Good\"].price, vert=False)\n",
    "axs[1,0].set_title(\"Very Good\")\n",
    "axs[1,1].boxplot(df[df.cut == \"Fair\"].price, vert=False)\n",
    "axs[1,1].set_title(\"Fair\");"
   ]
  },
  {
   "cell_type": "markdown",
   "id": "d12b3e38",
   "metadata": {},
   "source": [
    "## Observations\n",
    "- As it can be observed all the above boxplots are rightly skewed.\n",
    "- Compared to others price of Fair cut is not much skewed.\n",
    "- Among all the cut the maximum value close to 15000 is for the premium cut.\n",
    "- There are 7 values where x (length), y (width), and z depth are 0 which means the data is missing. The data can be replaced my NaN or left as it is. It can alter the Statistics if considered as 0."
   ]
  },
  {
   "cell_type": "markdown",
   "id": "0726702d",
   "metadata": {},
   "source": [
    "## Q7: Using both Matplolib and Seaborn, make a scatter plot of price vs. carat. What can we say about the relationship between those two attributes?"
   ]
  },
  {
   "cell_type": "code",
   "execution_count": 24,
   "id": "1f7a846f",
   "metadata": {
    "scrolled": true
   },
   "outputs": [
    {
     "name": "stderr",
     "output_type": "stream",
     "text": [
      "/usr/local/lib/python3.10/dist-packages/seaborn/_decorators.py:36: FutureWarning: Pass the following variables as keyword args: x, y. From version 0.12, the only valid positional argument will be `data`, and passing other arguments without an explicit keyword will result in an error or misinterpretation.\n",
      "  warnings.warn(\n"
     ]
    },
    {
     "data": {
      "image/png": "[encoded data removed]",
      "text/plain": [
       "<Figure size 432x288 with 1 Axes>"
      ]
     },
     "metadata": {
      "needs_background": "light"
     },
     "output_type": "display_data"
    }
   ],
   "source": [
    "sns.scatterplot(df.price, df.carat);"
   ]
  },
  {
   "cell_type": "markdown",
   "id": "c14379b9",
   "metadata": {},
   "source": [
    "## Observations\n",
    "- Above is the scatter plot of Price vs Carat.\n",
    "- It can be observed that Price of the diamond increases as the carat increases.\n",
    "- There are many diamonds who's carat value are low but the price is equal or more than the diamond who's carat value are high."
   ]
  },
  {
   "cell_type": "code",
   "execution_count": 25,
   "id": "64e95667",
   "metadata": {
    "scrolled": true
   },
   "outputs": [
    {
     "data": {
      "text/html": [
       "<div>\n",
       "<style scoped>\n",
       "    .dataframe tbody tr th:only-of-type {\n",
       "        vertical-align: middle;\n",
       "    }\n",
       "\n",
       "    .dataframe tbody tr th {\n",
       "        vertical-align: top;\n",
       "    }\n",
       "\n",
       "    .dataframe thead th {\n",
       "        text-align: right;\n",
       "    }\n",
       "</style>\n",
       "<table border=\"1\" class=\"dataframe\">\n",
       "  <thead>\n",
       "    <tr style=\"text-align: right;\">\n",
       "      <th></th>\n",
       "      <th>carat</th>\n",
       "      <th>cut</th>\n",
       "      <th>color</th>\n",
       "      <th>clarity</th>\n",
       "      <th>depth</th>\n",
       "      <th>table</th>\n",
       "      <th>price</th>\n",
       "      <th>x</th>\n",
       "      <th>y</th>\n",
       "      <th>z</th>\n",
       "    </tr>\n",
       "  </thead>\n",
       "  <tbody>\n",
       "    <tr>\n",
       "      <th>11963</th>\n",
       "      <td>1.00</td>\n",
       "      <td>Very Good</td>\n",
       "      <td>H</td>\n",
       "      <td>VS2</td>\n",
       "      <td>63.3</td>\n",
       "      <td>53.0</td>\n",
       "      <td>5139</td>\n",
       "      <td>0.0</td>\n",
       "      <td>0.0</td>\n",
       "      <td>0.0</td>\n",
       "    </tr>\n",
       "    <tr>\n",
       "      <th>15951</th>\n",
       "      <td>1.14</td>\n",
       "      <td>Fair</td>\n",
       "      <td>G</td>\n",
       "      <td>VS1</td>\n",
       "      <td>57.5</td>\n",
       "      <td>67.0</td>\n",
       "      <td>6381</td>\n",
       "      <td>0.0</td>\n",
       "      <td>0.0</td>\n",
       "      <td>0.0</td>\n",
       "    </tr>\n",
       "    <tr>\n",
       "      <th>24520</th>\n",
       "      <td>1.56</td>\n",
       "      <td>Ideal</td>\n",
       "      <td>G</td>\n",
       "      <td>VS2</td>\n",
       "      <td>62.2</td>\n",
       "      <td>54.0</td>\n",
       "      <td>12800</td>\n",
       "      <td>0.0</td>\n",
       "      <td>0.0</td>\n",
       "      <td>0.0</td>\n",
       "    </tr>\n",
       "    <tr>\n",
       "      <th>26243</th>\n",
       "      <td>1.20</td>\n",
       "      <td>Premium</td>\n",
       "      <td>D</td>\n",
       "      <td>VVS1</td>\n",
       "      <td>62.1</td>\n",
       "      <td>59.0</td>\n",
       "      <td>15686</td>\n",
       "      <td>0.0</td>\n",
       "      <td>0.0</td>\n",
       "      <td>0.0</td>\n",
       "    </tr>\n",
       "    <tr>\n",
       "      <th>27429</th>\n",
       "      <td>2.25</td>\n",
       "      <td>Premium</td>\n",
       "      <td>H</td>\n",
       "      <td>SI2</td>\n",
       "      <td>62.8</td>\n",
       "      <td>59.0</td>\n",
       "      <td>18034</td>\n",
       "      <td>0.0</td>\n",
       "      <td>0.0</td>\n",
       "      <td>0.0</td>\n",
       "    </tr>\n",
       "    <tr>\n",
       "      <th>49556</th>\n",
       "      <td>0.71</td>\n",
       "      <td>Good</td>\n",
       "      <td>F</td>\n",
       "      <td>SI2</td>\n",
       "      <td>64.1</td>\n",
       "      <td>60.0</td>\n",
       "      <td>2130</td>\n",
       "      <td>0.0</td>\n",
       "      <td>0.0</td>\n",
       "      <td>0.0</td>\n",
       "    </tr>\n",
       "    <tr>\n",
       "      <th>49557</th>\n",
       "      <td>0.71</td>\n",
       "      <td>Good</td>\n",
       "      <td>F</td>\n",
       "      <td>SI2</td>\n",
       "      <td>64.1</td>\n",
       "      <td>60.0</td>\n",
       "      <td>2130</td>\n",
       "      <td>0.0</td>\n",
       "      <td>0.0</td>\n",
       "      <td>0.0</td>\n",
       "    </tr>\n",
       "  </tbody>\n",
       "</table>\n",
       "</div>"
      ],
      "text/plain": [
       "       carat        cut color clarity  depth  table  price    x    y    z\n",
       "11963   1.00  Very Good     H     VS2   63.3   53.0   5139  0.0  0.0  0.0\n",
       "15951   1.14       Fair     G     VS1   57.5   67.0   6381  0.0  0.0  0.0\n",
       "24520   1.56      Ideal     G     VS2   62.2   54.0  12800  0.0  0.0  0.0\n",
       "26243   1.20    Premium     D    VVS1   62.1   59.0  15686  0.0  0.0  0.0\n",
       "27429   2.25    Premium     H     SI2   62.8   59.0  18034  0.0  0.0  0.0\n",
       "49556   0.71       Good     F     SI2   64.1   60.0   2130  0.0  0.0  0.0\n",
       "49557   0.71       Good     F     SI2   64.1   60.0   2130  0.0  0.0  0.0"
      ]
     },
     "execution_count": 25,
     "metadata": {},
     "output_type": "execute_result"
    }
   ],
   "source": [
    "# Datapoints where length, width, and height are equal.\n",
    "df[(df.x == df.y) & (df.y == df.z) & (df.x == df.z)]"
   ]
  },
  {
   "cell_type": "markdown",
   "id": "9061f9a7",
   "metadata": {},
   "source": [
    "# Conclusion\n",
    "- The purpose of this project is to analyse the Diamond dataset.\n",
    "- Firstly, we've identified that the continuous features have a many outliers and are rightly skewed using Boxplots.\n",
    "- Secondly, we've found there are 17 diamonds who has same length and width.\n",
    "- There are 7 values where x (length), y (width), and z depth are 0 which means the data is missing. The data can be replaced my NaN or left as it is. They can alter the Statistics if considered as 0."
   ]
  },
  {
   "cell_type": "markdown",
   "id": "6c1f23e4",
   "metadata": {},
   "source": [
    "# References\n",
    "\n",
    "- https://matplotlib.org/stable/api/_as_gen/matplotlib.pyplot.hist.html\n",
    "- https://seaborn.pydata.org/generated/seaborn.scatterplot.html"
   ]
  }
 ],
 "metadata": {
  "kernelspec": {
   "display_name": "Python 3 (ipykernel)",
   "language": "python",
   "name": "python3"
  },
  "language_info": {
   "codemirror_mode": {
    "name": "ipython",
    "version": 3
   },
   "file_extension": ".py",
   "mimetype": "text/x-python",
   "name": "python",
   "nbconvert_exporter": "python",
   "pygments_lexer": "ipython3",
   "version": "3.10.6"
  }
 },
 "nbformat": 4,
 "nbformat_minor": 5
}
