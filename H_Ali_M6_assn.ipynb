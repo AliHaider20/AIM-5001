{
 "cells": [
  {
   "cell_type": "code",
   "execution_count": 1,
   "id": "45eb4682",
   "metadata": {},
   "outputs": [],
   "source": [
    "import numpy as np"
   ]
  },
  {
   "cell_type": "markdown",
   "id": "37c88441",
   "metadata": {},
   "source": [
    "# Task 1: Write a Python/NumPy code block that finds the distinct/unique common items between these two arrays."
   ]
  },
  {
   "cell_type": "code",
   "execution_count": 63,
   "id": "178898ce",
   "metadata": {},
   "outputs": [
    {
     "data": {
      "text/plain": [
       "array([2, 4])"
      ]
     },
     "execution_count": 63,
     "metadata": {},
     "output_type": "execute_result"
    }
   ],
   "source": [
    "a = np.array([1, 2, 3, 2, 3, 4, 3, 4, 5, 6])\n",
    "b = np.array([7, 2, 10, 2, 7, 4, 9, 4, 9, 8])\n",
    "\n",
    "# Intersect1d returns unique elements which matches in both 1d arrays.\n",
    "np.intersect1d(a, b) "
   ]
  },
  {
   "cell_type": "markdown",
   "id": "429aa179",
   "metadata": {},
   "source": [
    "# Task 2: Create the following 5x3 array using knowledge you have of Python’s / NumPy’s sequencing functionality so that you do not need to explicitly key in every integer value."
   ]
  },
  {
   "cell_type": "code",
   "execution_count": 64,
   "id": "b43577db",
   "metadata": {},
   "outputs": [
    {
     "name": "stdout",
     "output_type": "stream",
     "text": [
      "[[ 1  2  3]\n",
      " [ 4  5  6]\n",
      " [ 7  8  9]\n",
      " [10 11 12]\n",
      " [13 14 15]]\n"
     ]
    }
   ],
   "source": [
    "# Creating a range of values anf reshaping it into 2d matrix.\n",
    "arr = np.arange(1,16).reshape(5,3)\n",
    "print(arr)"
   ]
  },
  {
   "cell_type": "markdown",
   "id": "cbdad2c6",
   "metadata": {},
   "source": [
    "# Task 3: Convert Task 2 array to unidimensional array."
   ]
  },
  {
   "cell_type": "code",
   "execution_count": 65,
   "id": "50d92041",
   "metadata": {},
   "outputs": [
    {
     "name": "stdout",
     "output_type": "stream",
     "text": [
      "[ 1  2  3  4  5  6  7  8  9 10 11 12 13 14 15]\n"
     ]
    },
    {
     "data": {
      "text/plain": [
       "array([ 1,  2,  3,  4,  5,  6,  7,  8,  9, 10, 11, 12, 13, 14, 15])"
      ]
     },
     "execution_count": 65,
     "metadata": {},
     "output_type": "execute_result"
    }
   ],
   "source": [
    "print(arr.flatten()) # Method 1: Flatten takes any dimensional array and changes it to unidimensional array.\n",
    "np.reshape(arr, 15) # Method 2: Reshapes the array to 15 elements array."
   ]
  },
  {
   "cell_type": "markdown",
   "id": "dd5780d0",
   "metadata": {},
   "source": [
    "# Task 4: Transform the 2-D array shown in Problem 2 into a 3 dimensional array such that the first column becomes the first dimension of the 3-D array, the second column becomes the second dimension of the 3-D array, and the third column becomes the third dimension of the 3-D array."
   ]
  },
  {
   "cell_type": "code",
   "execution_count": 75,
   "id": "a05f150d",
   "metadata": {
    "scrolled": true
   },
   "outputs": [
    {
     "data": {
      "text/plain": [
       "array([[[ 1,  2,  3]],\n",
       "\n",
       "       [[ 4,  5,  6]],\n",
       "\n",
       "       [[ 7,  8,  9]],\n",
       "\n",
       "       [[10, 11, 12]],\n",
       "\n",
       "       [[13, 14, 15]]])"
      ]
     },
     "execution_count": 75,
     "metadata": {},
     "output_type": "execute_result"
    }
   ],
   "source": [
    "# Each 5 array will contain 1 array which will contain 3 elements. \n",
    "arr3d = np.reshape(arr, (5,1,3)) \n",
    "arr3d"
   ]
  },
  {
   "cell_type": "markdown",
   "id": "797508c9",
   "metadata": {},
   "source": [
    "# Task 5: Transform the 3-D array you created in Problem 4 back to the 2-dimensional format shown in Problem 2."
   ]
  },
  {
   "cell_type": "code",
   "execution_count": 67,
   "id": "b818df60",
   "metadata": {},
   "outputs": [
    {
     "data": {
      "text/plain": [
       "array([[ 1,  2,  3],\n",
       "       [ 4,  5,  6],\n",
       "       [ 7,  8,  9],\n",
       "       [10, 11, 12],\n",
       "       [13, 14, 15]])"
      ]
     },
     "execution_count": 67,
     "metadata": {},
     "output_type": "execute_result"
    }
   ],
   "source": [
    "arr2d = np.reshape(arr3d, (5, 3))\n",
    "arr2d"
   ]
  },
  {
   "cell_type": "markdown",
   "id": "76860c7d",
   "metadata": {},
   "source": [
    "# Task 6: Write a Python/Numpy code block that removes from array a any items that are also present in array b."
   ]
  },
  {
   "cell_type": "markdown",
   "id": "57c68def",
   "metadata": {},
   "source": [
    "- np.delete uses indices to delete items from an ndarray\n",
    "- np.intersect1d is returning 3 things.\n",
    "    - 1) List of common elements.\n",
    "    - 2) list of the indexes of the common elements in array a.\n",
    "    - 3) List of the indexes of the common elements in array b."
   ]
  },
  {
   "cell_type": "code",
   "execution_count": 68,
   "id": "5b7bd7ca",
   "metadata": {},
   "outputs": [
    {
     "data": {
      "text/plain": [
       "array([ 7, 15,  1,  8])"
      ]
     },
     "execution_count": 68,
     "metadata": {},
     "output_type": "execute_result"
    }
   ],
   "source": [
    "a = np.array([12, 5, 7, 15, 3, 1, 8])\n",
    "b = np.array([14, 6, 3, 11, 19, 12, 5])\n",
    "np.delete(a, np.intersect1d(a, b, return_indices=True)[1])"
   ]
  },
  {
   "cell_type": "markdown",
   "id": "219fe444",
   "metadata": {},
   "source": [
    "# Task 7: Reading and extracting information from a text file using Numpy."
   ]
  },
  {
   "cell_type": "code",
   "execution_count": 69,
   "id": "ebdb4f64",
   "metadata": {},
   "outputs": [
    {
     "name": "stdout",
     "output_type": "stream",
     "text": [
      "<class 'numpy.ndarray'>\n"
     ]
    },
    {
     "data": {
      "text/plain": [
       "array([[   1979., 7102100.,    1512.,     213.],\n",
       "       [   1980., 7071639.,    1506.,     213.],\n",
       "       [   1981., 7089241.,    1309.,     185.],\n",
       "       [   1982., 7109105.,    1382.,     194.],\n",
       "       [   1983., 7181224.,    1424.,     198.]])"
      ]
     },
     "execution_count": 69,
     "metadata": {},
     "output_type": "execute_result"
    }
   ],
   "source": [
    "from pandas import read_csv\n",
    "np.set_printoptions(suppress = True)\n",
    "nyc_water = read_csv(\"https://raw.githubusercontent.com/AliHaider20/AIM-5001/main/Module6_Data.csv\").to_numpy()\n",
    "print(type(nyc_water))\n",
    "nyc_water[:5]"
   ]
  },
  {
   "cell_type": "code",
   "execution_count": 70,
   "id": "b8d607a8",
   "metadata": {
    "scrolled": true
   },
   "outputs": [
    {
     "name": "stdout",
     "output_type": "stream",
     "text": [
      "Maximum NYC Consumption(Million gallons per day) : 1512.0\n"
     ]
    }
   ],
   "source": [
    "print(\"Maximum NYC Consumption(Million gallons per day) :\", nyc_water[:, 2].max())"
   ]
  },
  {
   "cell_type": "code",
   "execution_count": 71,
   "id": "cf1ffb08",
   "metadata": {
    "scrolled": true
   },
   "outputs": [
    {
     "name": "stdout",
     "output_type": "stream",
     "text": [
      "Number of calendar years present are:  39\n",
      "Number of calendar years present are:  39\n"
     ]
    }
   ],
   "source": [
    "print(\"Number of calendar years present are: \", nyc_water.shape[0]) # Method 1\n",
    "print(\"Number of calendar years present are: \", len(np.unique(nyc_water[:,0]))) # Method 2 "
   ]
  },
  {
   "cell_type": "code",
   "execution_count": 72,
   "id": "1757d948",
   "metadata": {},
   "outputs": [
    {
     "name": "stdout",
     "output_type": "stream",
     "text": [
      "For Per Capita(Gallons per person per day) mean is 160.30769230769232 and STD is 31.51894330370624\n"
     ]
    }
   ],
   "source": [
    "print(f\"For Per Capita(Gallons per person per day) mean is {nyc_water[:,-1].mean()} and STD is {nyc_water[:,-1].std()}\")"
   ]
  },
  {
   "cell_type": "code",
   "execution_count": 76,
   "id": "23e48f0b",
   "metadata": {},
   "outputs": [
    {
     "name": "stdout",
     "output_type": "stream",
     "text": [
      "Population Differences:  [-30461.   17602.   19864.   72119.   53290.   39540.   45192.   23230.\n",
      "  11243.   -9544.   -8525.   38851.   54443.   77222.   64292.   62582.\n",
      "  64772.   75631.   84816.   89401.   60618.   16685.5  16685.5  16685.5\n",
      "  16685.5  16685.5  16685.5  16685.5  16685.5  16685.5  16685.5 108965.\n",
      "  77081.   61281.   49530.   44512.   21171.   85025. ]\n"
     ]
    }
   ],
   "source": [
    "pop_diff = np.diff(nyc_water[:,1]) # Method 1: Taking the difference between consecutive elements.\n",
    "pop_diff = np.ediff1d(nyc_water[:,1]) # Method 2\n",
    "print(\"Population Differences: \", pop_diff)"
   ]
  },
  {
   "cell_type": "code",
   "execution_count": null,
   "id": "44c61d8c",
   "metadata": {},
   "outputs": [],
   "source": []
  }
 ],
 "metadata": {
  "kernelspec": {
   "display_name": "Python 3 (ipykernel)",
   "language": "python",
   "name": "python3"
  },
  "language_info": {
   "codemirror_mode": {
    "name": "ipython",
    "version": 3
   },
   "file_extension": ".py",
   "mimetype": "text/x-python",
   "name": "python",
   "nbconvert_exporter": "python",
   "pygments_lexer": "ipython3",
   "version": "3.10.4"
  }
 },
 "nbformat": 4,
 "nbformat_minor": 5
}
